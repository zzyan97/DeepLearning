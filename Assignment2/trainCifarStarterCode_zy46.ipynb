{
 "cells": [
  {
   "cell_type": "code",
   "execution_count": 1,
   "id": "e5f96197",
   "metadata": {},
   "outputs": [],
   "source": [
    "from scipy import misc\n",
    "import numpy as np\n",
    "import tensorflow.compat.v1 as tf\n",
    "import random\n",
    "import matplotlib.pyplot as plt\n",
    "import matplotlib as mp"
   ]
  },
  {
   "cell_type": "code",
   "execution_count": 2,
   "id": "2a02ca07",
   "metadata": {},
   "outputs": [],
   "source": [
    "import imageio.v2 as imageio"
   ]
  },
  {
   "cell_type": "code",
   "execution_count": 3,
   "id": "4457691f",
   "metadata": {},
   "outputs": [
    {
     "name": "stdout",
     "output_type": "stream",
     "text": [
      "WARNING:tensorflow:From /Users/johnnyyan/opt/anaconda3/lib/python3.7/site-packages/tensorflow/python/compat/v2_compat.py:107: disable_resource_variables (from tensorflow.python.ops.variable_scope) is deprecated and will be removed in a future version.\n",
      "Instructions for updating:\n",
      "non-resource variables are not supported in the long term\n"
     ]
    }
   ],
   "source": [
    "tf.disable_v2_behavior()"
   ]
  },
  {
   "cell_type": "code",
   "execution_count": 4,
   "id": "e49ebd6c",
   "metadata": {},
   "outputs": [],
   "source": [
    "def weight_variable(shape):\n",
    "    '''\n",
    "    Initialize weights\n",
    "    :param shape: shape of weights, e.g. [w, h ,Cin, Cout] where\n",
    "    w: width of the filters\n",
    "    h: height of the filters\n",
    "    Cin: the number of the channels of the filters\n",
    "    Cout: the number of filters\n",
    "    :return: a tensor variable for weights with initial values\n",
    "    '''\n",
    "\n",
    "    # IMPLEMENT YOUR WEIGHT_VARIABLE HERE\n",
    "    weight = tf.truncated_normal(shape, stddev=0.1)\n",
    "    W = tf.Variable(weight)\n",
    "    return W"
   ]
  },
  {
   "cell_type": "code",
   "execution_count": 5,
   "id": "3904ad0f",
   "metadata": {},
   "outputs": [],
   "source": [
    "def bias_variable(shape):\n",
    "    '''\n",
    "    Initialize biases\n",
    "    :param shape: shape of biases, e.g. [Cout] where\n",
    "    Cout: the number of filters\n",
    "    :return: a tensor variable for biases with initial values\n",
    "    '''\n",
    "\n",
    "    # IMPLEMENT YOUR BIAS_VARIABLE HERE\n",
    "    bias = tf.constant(0.1, shape=shape)\n",
    "\n",
    "    return tf.Variable(bias)"
   ]
  },
  {
   "cell_type": "code",
   "execution_count": 6,
   "id": "87b623ba",
   "metadata": {},
   "outputs": [],
   "source": [
    "def conv2d(x, W):\n",
    "    '''\n",
    "    Perform 2-D convolution\n",
    "    :param x: input tensor of size [N, W, H, Cin] where\n",
    "    N: the number of images\n",
    "    W: width of images\n",
    "    H: height of images\n",
    "    Cin: the number of channels of images\n",
    "    :param W: weight tensor [w, h, Cin, Cout]\n",
    "    w: width of the filters\n",
    "    h: height of the filters\n",
    "    Cin: the number of the channels of the filters = the number of channels of images\n",
    "    Cout: the number of filters\n",
    "    :return: a tensor of features extracted by the filters, a.k.a. the results after convolution\n",
    "    '''\n",
    "\n",
    "    # IMPLEMENT YOUR CONV2D HERE\n",
    "    h_conv = tf.nn.conv2d(x, W, strides=[1, 1, 1, 1], padding='SAME')\n",
    "\n",
    "    return h_conv"
   ]
  },
  {
   "cell_type": "code",
   "execution_count": 7,
   "id": "296c506f",
   "metadata": {},
   "outputs": [],
   "source": [
    "def max_pool_2x2(x):\n",
    "    '''\n",
    "    Perform non-overlapping 2-D maxpooling on 2x2 regions in the input data\n",
    "    :param x: input data\n",
    "    :return: the results of maxpooling (max-marginalized + downsampling)\n",
    "    '''\n",
    "\n",
    "    # IMPLEMENT YOUR MAX_POOL_2X2 HERE\n",
    "    h_max = tf.nn.max_pool(x, ksize=[1, 2, 2, 1], strides=[1, 2, 2, 1], padding='SAME')\n",
    "\n",
    "    return h_max"
   ]
  },
  {
   "cell_type": "code",
   "execution_count": 8,
   "id": "fd0a0b92",
   "metadata": {},
   "outputs": [],
   "source": [
    "import imageio"
   ]
  },
  {
   "cell_type": "code",
   "execution_count": 10,
   "id": "c2811fe1",
   "metadata": {},
   "outputs": [
    {
     "name": "stderr",
     "output_type": "stream",
     "text": [
      "/Users/johnnyyan/opt/anaconda3/lib/python3.7/site-packages/ipykernel_launcher.py:18: DeprecationWarning: Starting with ImageIO v3 the behavior of this function will switch to that of iio.v3.imread. To keep the current behavior (and make this warning disappear) use `import imageio.v2 as imageio` or call `imageio.v2.imread` directly.\n",
      "/Users/johnnyyan/opt/anaconda3/lib/python3.7/site-packages/ipykernel_launcher.py:25: DeprecationWarning: Starting with ImageIO v3 the behavior of this function will switch to that of iio.v3.imread. To keep the current behavior (and make this warning disappear) use `import imageio.v2 as imageio` or call `imageio.v2.imread` directly.\n",
      "2022-11-01 14:33:45.039182: I tensorflow/core/platform/cpu_feature_guard.cc:151] This TensorFlow binary is optimized with oneAPI Deep Neural Network Library (oneDNN) to use the following CPU instructions in performance-critical operations:  AVX2 FMA\n",
      "To enable them in other operations, rebuild TensorFlow with the appropriate compiler flags.\n"
     ]
    }
   ],
   "source": [
    "ntrain =  1000# per class\n",
    "ntest =  100# per class\n",
    "nclass =  10# number of classes\n",
    "imsize = 28\n",
    "nchannels = 1\n",
    "batchsize = 50\n",
    "\n",
    "Train = np.zeros((ntrain*nclass,imsize,imsize,nchannels))\n",
    "Test = np.zeros((ntest*nclass,imsize,imsize,nchannels))\n",
    "LTrain = np.zeros((ntrain*nclass,nclass))\n",
    "LTest = np.zeros((ntest*nclass,nclass))\n",
    "\n",
    "itrain = -1\n",
    "itest = -1\n",
    "for iclass in range(0, nclass):\n",
    "    for isample in range(0, ntrain):\n",
    "        path = './CIFAR10/Train/%d/Image%05d.png' % (iclass,isample)\n",
    "        im = imageio.imread(path); # 28 by 28\n",
    "        im = im.astype(float)/255\n",
    "        itrain += 1\n",
    "        Train[itrain,:,:,0] = im\n",
    "        LTrain[itrain,iclass] = 1 # 1-hot lable\n",
    "    for isample in range(0, ntest):\n",
    "        path = './CIFAR10/Test/%d/Image%05d.png' % (iclass,isample)\n",
    "        im = imageio.imread(path); # 28 by 28\n",
    "        im = im.astype(float)/255\n",
    "        itest += 1\n",
    "        Test[itest,:,:,0] = im\n",
    "        LTest[itest,iclass] = 1 # 1-hot lable\n",
    "\n",
    "sess = tf.InteractiveSession()\n",
    "\n",
    "tf_data = tf.placeholder(tf.float32, shape=[None, imsize, imsize, nchannels])  #tf variable for the data, remember shape is [None, width, height, numberOfChannels]\n",
    "tf_labels = tf.placeholder(tf.float32, shape=[None, nclass])  #tf variable for labels"
   ]
  },
  {
   "cell_type": "code",
   "execution_count": 39,
   "id": "efcf2a9f",
   "metadata": {},
   "outputs": [
    {
     "name": "stdout",
     "output_type": "stream",
     "text": [
      "test accuracy 0.382\n"
     ]
    }
   ],
   "source": [
    "# --------------------------------------------------\n",
    "# model\n",
    "# create your model\n",
    "\n",
    "# 1st layer \n",
    "# 5 x 5 and 32\n",
    "W_conv1 = weight_variable([5, 5, nchannels, 32])\n",
    "b_conv1 = bias_variable([32])\n",
    "# ReLu\n",
    "h_conv1 = tf.nn.relu(conv2d(tf_data, W_conv1) + b_conv1)\n",
    "# Max Pooling subsampling by 2\n",
    "h_pool1 = max_pool_2x2(h_conv1)\n",
    "\n",
    "\n",
    "# 2nd layer\n",
    "W_conv2 = weight_variable([5, 5, 32, 64])\n",
    "b_conv2 = bias_variable([64])\n",
    "h_conv2 = tf.nn.tanh(conv2d(h_pool1, W_conv2) + b_conv2)\n",
    "h_pool2 = max_pool_2x2(h_conv2)\n",
    "\n",
    "# 1st fully connected\n",
    "# 7 x 7 output 1024\n",
    "W_fullyconnect1 = weight_variable([7*7*64, 1024])\n",
    "b_fullyconnect1 = bias_variable([1024])\n",
    "# flatten h_pool2\n",
    "h_pool2_flat = tf.reshape(h_pool2, [-1, 7*7*64])\n",
    "# tf ReLu\n",
    "h_fullyconnect1 = tf.nn.relu(tf.matmul(h_pool2_flat, W_fullyconnect1) + b_fullyconnect1)\n",
    "\n",
    "# Dropout \n",
    "placehold = tf.placeholder(tf.float32)\n",
    "h_fullyconnect1_drop = tf.nn.dropout(h_fullyconnect1, placehold)\n",
    "\n",
    "# Fully connected with 1024 input, output 10 classes\n",
    "W_fullyconnect2 = weight_variable([1024, 10])\n",
    "b_fullyconnect2 = bias_variable([10])\n",
    "h_fullyconnect2 = tf.matmul(h_fullyconnect1_drop, W_fullyconnect2) + b_fullyconnect2\n",
    "\n",
    "\n",
    "\n",
    "\n",
    "# --------------------------------------------------\n",
    "# loss\n",
    "#set up the loss, optimization, evaluation, and accuracy\n",
    "\n",
    "\n",
    "cross_entropy = tf.nn.softmax_cross_entropy_with_logits(labels=tf_labels, logits=h_fullyconnect2)\n",
    "cross_entropy = tf.reduce_mean(cross_entropy)\n",
    "optimizer = tf.train.AdamOptimizer(1e-3).minimize(cross_entropy)\n",
    "# correct_prediction = tf.equal(tf.argmax(h_fc2, 1), tf_labels)\n",
    "# correct_prediction = tf.cast(correct_prediction, tf.float32)\n",
    "correct_prediction = tf.equal(tf.argmax(h_fullyconnect2, 1), tf.argmax(tf_labels, 1))\n",
    "# accuracy = tf.reduce_mean(correct_prediction)\n",
    "accuracy = tf.reduce_mean(tf.cast(correct_prediction, tf.float32))\n",
    "\n",
    "\n",
    "# --------------------------------------------------\n",
    "# optimization\n",
    "# optimizer = tf.train.AdamOptimizer(1e-3).minimize(cross_entropy)\n",
    "\n",
    "\n",
    "# # Predict\n",
    "# pred = tf.equal(tf.argmax(h_fullyconnect2, 1), tf.argmax(tf_labels, 1))\n",
    "# accuracy = tf.reduce_mean(tf.cast(pred, tf.float32))\n",
    "\n",
    "# ---------------------------------------------------\n",
    "train_acc_result = []\n",
    "test_acc_result = []\n",
    "train_loss_result = []\n",
    "test_loss_result = []\n",
    "sess.run(tf.initialize_all_variables())\n",
    "batch_xs = np.zeros((batchsize, imsize, imsize, nchannels))#setup as [batchsize, width, height, numberOfChannels] and use np.zeros()\n",
    "batch_ys = np.zeros((batchsize, nclass))#setup as [batchsize, the how many classes] \n",
    "for i in range(500): # try a small iteration size once it works then continue\n",
    "    perm = np.arange(ntrain*nclass)\n",
    "    np.random.shuffle(perm)\n",
    "    for j in range(batchsize):\n",
    "        batch_xs[j,:,:,:] = Train[perm[j],:,:,:]\n",
    "        batch_ys[j,:] = LTrain[perm[j],:]\n",
    "    if i%10 == 0:\n",
    "        train_acc = accuracy.eval(feed_dict={tf_data: Train, tf_labels: LTrain,placehold: 0.5})\n",
    "        train_acc_result.append(train_acc) \n",
    "        # Test acc\n",
    "        test_acc = accuracy.eval(feed_dict={tf_data: Test, tf_labels: LTest,placehold: 0.5})\n",
    "        test_acc_result.append(test_acc)\n",
    "        # Train loss\n",
    "        train_loss = cross_entropy.eval(feed_dict={tf_data: Train, tf_labels: LTrain,placehold: 0.5})\n",
    "        train_loss_result.append(train_loss)\n",
    "        # Test loss\n",
    "        test_loss = cross_entropy.eval(feed_dict={tf_data: Test, tf_labels: LTest,placehold: 0.5})\n",
    "        test_loss_result.append(test_loss)\n",
    "    optimizer.run(feed_dict={tf_data:batch_xs, tf_labels:batch_ys, placehold: 0.5}) # dropout only during training\n",
    "\n",
    "# --------------------------------------------------\n",
    "# test\n",
    "\n",
    "\n",
    "# conv1 = h_conv1.eval(feed_dict = {tf_data: Test, tf_labels: LTest, placehold: 0.5})\n",
    "# conv2 = h_conv2.eval(feed_dict = {tf_data: Test, tf_labels: LTest, placehold: 0.5})\n",
    "print(\"test accuracy %g\" % accuracy.eval(feed_dict={tf_data: Test, tf_labels: LTest, placehold: 0.5}))\n",
    "\n",
    "\n",
    "#sess.close()"
   ]
  },
  {
   "cell_type": "code",
   "execution_count": 40,
   "id": "faaaab91",
   "metadata": {},
   "outputs": [
    {
     "data": {
      "text/plain": [
       "Text(0.5, 1.0, 'train accuracy ')"
      ]
     },
     "execution_count": 40,
     "metadata": {},
     "output_type": "execute_result"
    },
    {
     "data": {
      "image/png": "[encoded data removed]",
      "text/plain": [
       "<Figure size 432x288 with 1 Axes>"
      ]
     },
     "metadata": {
      "needs_background": "light"
     },
     "output_type": "display_data"
    }
   ],
   "source": [
    "\n",
    "fig, axs = plt.subplots()\n",
    "axs.plot(train_acc_result)\n",
    "axs.set_xlabel(\"Iteration\")\n",
    "axs.set_ylabel(\"accuracy\")\n",
    "axs.set_title(\"train accuracy \")\n"
   ]
  },
  {
   "cell_type": "code",
   "execution_count": 41,
   "id": "72c1e3b5",
   "metadata": {},
   "outputs": [
    {
     "data": {
      "text/plain": [
       "Text(0.5, 1.0, 'train accuracy ')"
      ]
     },
     "execution_count": 41,
     "metadata": {},
     "output_type": "execute_result"
    },
    {
     "data": {
      "image/png": "[encoded data removed]",
      "text/plain": [
       "<Figure size 432x288 with 1 Axes>"
      ]
     },
     "metadata": {
      "needs_background": "light"
     },
     "output_type": "display_data"
    }
   ],
   "source": [
    "fig, axs = plt.subplots()\n",
    "axs.plot(test_acc_result)\n",
    "axs.set_xlabel(\"Iteration\")\n",
    "axs.set_ylabel(\"accuracy\")\n",
    "axs.set_title(\"train accuracy \")"
   ]
  },
  {
   "cell_type": "code",
   "execution_count": 42,
   "id": "56cc612b",
   "metadata": {},
   "outputs": [
    {
     "data": {
      "text/plain": [
       "Text(0.5, 1.0, 'train accuracy ')"
      ]
     },
     "execution_count": 42,
     "metadata": {},
     "output_type": "execute_result"
    },
    {
     "data": {
      "image/png": "[encoded data removed]",
      "text/plain": [
       "<Figure size 432x288 with 1 Axes>"
      ]
     },
     "metadata": {
      "needs_background": "light"
     },
     "output_type": "display_data"
    }
   ],
   "source": [
    "fig, axs = plt.subplots()\n",
    "axs.plot(train_loss_result)\n",
    "axs.set_xlabel(\"Iteration\")\n",
    "axs.set_ylabel(\"accuracy\")\n",
    "axs.set_title(\"train accuracy \")"
   ]
  },
  {
   "cell_type": "code",
   "execution_count": 43,
   "id": "27a76f1e",
   "metadata": {},
   "outputs": [
    {
     "data": {
      "text/plain": [
       "Text(0.5, 1.0, 'train accuracy ')"
      ]
     },
     "execution_count": 43,
     "metadata": {},
     "output_type": "execute_result"
    },
    {
     "data": {
      "image/png": "[encoded data removed]",
      "text/plain": [
       "<Figure size 432x288 with 1 Axes>"
      ]
     },
     "metadata": {
      "needs_background": "light"
     },
     "output_type": "display_data"
    }
   ],
   "source": [
    "fig, axs = plt.subplots()\n",
    "axs.plot(test_loss_result)\n",
    "axs.set_xlabel(\"Iteration\")\n",
    "axs.set_ylabel(\"accuracy\")\n",
    "axs.set_title(\"train accuracy \")"
   ]
  },
  {
   "cell_type": "code",
   "execution_count": 26,
   "id": "60b5d0b0",
   "metadata": {},
   "outputs": [],
   "source": [
    "weights1 = W_conv1.eval()"
   ]
  },
  {
   "cell_type": "code",
   "execution_count": 28,
   "id": "a0dc2841",
   "metadata": {},
   "outputs": [
    {
     "data": {
      "image/png": "[encoded data removed]",
      "text/plain": [
       "<Figure size 432x288 with 32 Axes>"
      ]
     },
     "metadata": {
      "needs_background": "light"
     },
     "output_type": "display_data"
    }
   ],
   "source": [
    "plt.figure(1)\n",
    "for i in range(32):\n",
    "    plt.subplot(4, 8, i+1)\n",
    "    plt.imshow(weights1[:, :, 0, i], cmap='gray')\n",
    "    plt.axis('off')"
   ]
  },
  {
   "cell_type": "code",
   "execution_count": 44,
   "id": "44e65f29",
   "metadata": {},
   "outputs": [],
   "source": [
    "fst = h_conv1.eval(feed_dict = {tf_data: Test, tf_labels: LTest, placehold: 0.5})"
   ]
  },
  {
   "cell_type": "code",
   "execution_count": 45,
   "id": "2d9feaee",
   "metadata": {},
   "outputs": [
    {
     "name": "stdout",
     "output_type": "stream",
     "text": [
      "Statistics of The Activation on the Convolutional Layer\n",
      "Max0.72225666\n",
      "Min0.0\n",
      "Mean0.043309703\n",
      "Variance0.0045449194\n",
      "Standard Deviation0.06741602\n"
     ]
    }
   ],
   "source": [
    "print(\"Statistics of The Activation on the Convolutional Layer\")\n",
    "print(\"Max\" + str(np.max(fst)))\n",
    "print(\"Min\" + str(np.min(fst)))\n",
    "print(\"Mean\" + str(np.mean(fst)))\n",
    "print(\"Variance\" + str(np.var(fst)))\n",
    "print(\"Standard Deviation\" + str(np.std(fst)))"
   ]
  },
  {
   "cell_type": "code",
   "execution_count": 46,
   "id": "9b54a521",
   "metadata": {},
   "outputs": [],
   "source": [
    "snd = h_conv2.eval(feed_dict = {tf_data: Test, tf_labels: LTest, placehold: 0.5})"
   ]
  },
  {
   "cell_type": "code",
   "execution_count": 38,
   "id": "2fbb01d9",
   "metadata": {},
   "outputs": [
    {
     "name": "stdout",
     "output_type": "stream",
     "text": [
      "Statistics of The Activation on the Convolutional Layer\n",
      "Max0.91916513\n",
      "Min-0.94889915\n",
      "Mean-0.08852753\n",
      "Variance0.08257256\n",
      "Standard Deviation0.2873544\n"
     ]
    }
   ],
   "source": [
    "print(\"Statistics of The Activation on the Convolutional Layer\")\n",
    "print(\"Max\" + str(np.max(snd)))\n",
    "print(\"Min\" + str(np.min(snd)))\n",
    "print(\"Mean\" + str(np.mean(snd)))\n",
    "print(\"Variance\" + str(np.var(snd)))\n",
    "print(\"Standard Deviation\" + str(np.std(snd)))"
   ]
  },
  {
   "cell_type": "code",
   "execution_count": null,
   "id": "6f5240d4",
   "metadata": {},
   "outputs": [],
   "source": []
  }
 ],
 "metadata": {
  "kernelspec": {
   "display_name": "Python 3.7.4 ('base')",
   "language": "python",
   "name": "python3"
  },
  "language_info": {
   "codemirror_mode": {
    "name": "ipython",
    "version": 3
   },
   "file_extension": ".py",
   "mimetype": "text/x-python",
   "name": "python",
   "nbconvert_exporter": "python",
   "pygments_lexer": "ipython3",
   "version": "3.7.4"
  },
  "vscode": {
   "interpreter": {
    "hash": "52572a65a4f9385b981e4072438f45f4a271614075ffeff9627ac363076bf9bc"
   }
  }
 },
 "nbformat": 4,
 "nbformat_minor": 5
}
